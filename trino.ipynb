{
 "cells": [
  {
   "cell_type": "markdown",
   "id": "faa069ae",
   "metadata": {},
   "source": [
    " ```\n",
    "\n",
    "pip install trino\n",
    "\n",
    "\n",
    "pip install ipython-sq\n",
    "\n",
    "```1"
   ]
  },
  {
   "cell_type": "code",
   "execution_count": 1,
   "id": "8b5894c1",
   "metadata": {},
   "outputs": [],
   "source": [
    "%load_ext sql"
   ]
  },
  {
   "cell_type": "code",
   "execution_count": 2,
   "id": "8f8193ba",
   "metadata": {},
   "outputs": [
    {
     "name": "stdout",
     "output_type": "stream",
     "text": [
      " * trino://admin@localhost:8080/default\n",
      "Done.\n"
     ]
    },
    {
     "data": {
      "text/html": [
       "<table>\n",
       "    <thead>\n",
       "        <tr>\n",
       "            <th>Catalog</th>\n",
       "        </tr>\n",
       "    </thead>\n",
       "    <tbody>\n",
       "        <tr>\n",
       "            <td>hive</td>\n",
       "        </tr>\n",
       "        <tr>\n",
       "            <td>hudi</td>\n",
       "        </tr>\n",
       "        <tr>\n",
       "            <td>iceberg</td>\n",
       "        </tr>\n",
       "        <tr>\n",
       "            <td>minio</td>\n",
       "        </tr>\n",
       "        <tr>\n",
       "            <td>system</td>\n",
       "        </tr>\n",
       "    </tbody>\n",
       "</table>"
      ],
      "text/plain": [
       "[('hive',), ('hudi',), ('iceberg',), ('minio',), ('system',)]"
      ]
     },
     "execution_count": 2,
     "metadata": {},
     "output_type": "execute_result"
    }
   ],
   "source": [
    "%sql trino://admin@localhost:8080/default\n",
    "%sql SHOW CATALOGS"
   ]
  },
  {
   "cell_type": "code",
   "execution_count": 3,
   "id": "5eede503",
   "metadata": {},
   "outputs": [
    {
     "name": "stdout",
     "output_type": "stream",
     "text": [
      " * trino://admin@localhost:8080/default\n",
      "Done.\n"
     ]
    },
    {
     "data": {
      "text/plain": [
       "[]"
      ]
     },
     "execution_count": 3,
     "metadata": {},
     "output_type": "execute_result"
    }
   ],
   "source": [
    "%sql USE hudi.hudi_db"
   ]
  },
  {
   "cell_type": "code",
   "execution_count": 4,
   "id": "90ea75aa",
   "metadata": {},
   "outputs": [
    {
     "name": "stdout",
     "output_type": "stream",
     "text": [
      " * trino://admin@localhost:8080/default\n",
      "Done.\n"
     ]
    },
    {
     "data": {
      "text/html": [
       "<table>\n",
       "    <thead>\n",
       "        <tr>\n",
       "            <th>Table</th>\n",
       "        </tr>\n",
       "    </thead>\n",
       "    <tbody>\n",
       "        <tr>\n",
       "            <td>customer_dim</td>\n",
       "        </tr>\n",
       "        <tr>\n",
       "            <td>customers</td>\n",
       "        </tr>\n",
       "    </tbody>\n",
       "</table>"
      ],
      "text/plain": [
       "[('customer_dim',), ('customers',)]"
      ]
     },
     "execution_count": 4,
     "metadata": {},
     "output_type": "execute_result"
    }
   ],
   "source": [
    "%sql SHOW TABLES"
   ]
  },
  {
   "cell_type": "code",
   "execution_count": 33,
   "id": "56f10da5",
   "metadata": {},
   "outputs": [
    {
     "name": "stdout",
     "output_type": "stream",
     "text": [
      " * trino://admin@localhost:8080/default\n",
      "Done.\n"
     ]
    },
    {
     "data": {
      "text/html": [
       "<table>\n",
       "    <thead>\n",
       "        <tr>\n",
       "            <th>customer_id</th>\n",
       "            <th>email</th>\n",
       "        </tr>\n",
       "    </thead>\n",
       "    <tbody>\n",
       "        <tr>\n",
       "            <td>cust001</td>\n",
       "            <td>updat***@john.com</td>\n",
       "        </tr>\n",
       "        <tr>\n",
       "            <td>cust002</td>\n",
       "            <td>alice@example.com</td>\n",
       "        </tr>\n",
       "        <tr>\n",
       "            <td>cust003</td>\n",
       "            <td>bob@example.com</td>\n",
       "        </tr>\n",
       "    </tbody>\n",
       "</table>"
      ],
      "text/plain": [
       "[('cust001', 'updat***@john.com'),\n",
       " ('cust002', 'alice@example.com'),\n",
       " ('cust003', 'bob@example.com')]"
      ]
     },
     "execution_count": 33,
     "metadata": {},
     "output_type": "execute_result"
    }
   ],
   "source": [
    "%sql select customer_id,email from customers limit 5"
   ]
  },
  {
   "cell_type": "code",
   "execution_count": 34,
   "id": "2c277283",
   "metadata": {},
   "outputs": [
    {
     "name": "stdout",
     "output_type": "stream",
     "text": [
      " * trino://admin@localhost:8080/default\n",
      "Done.\n"
     ]
    },
    {
     "data": {
      "text/html": [
       "<table>\n",
       "    <thead>\n",
       "        <tr>\n",
       "            <th>customer_id</th>\n",
       "            <th>is_current</th>\n",
       "            <th>email</th>\n",
       "        </tr>\n",
       "    </thead>\n",
       "    <tbody>\n",
       "        <tr>\n",
       "            <td>cust003</td>\n",
       "            <td>True</td>\n",
       "            <td>bob@example.com</td>\n",
       "        </tr>\n",
       "        <tr>\n",
       "            <td>cust002</td>\n",
       "            <td>True</td>\n",
       "            <td>alice@example.com</td>\n",
       "        </tr>\n",
       "        <tr>\n",
       "            <td>cust001</td>\n",
       "            <td>False</td>\n",
       "            <td>john@example.com</td>\n",
       "        </tr>\n",
       "        <tr>\n",
       "            <td>cust001</td>\n",
       "            <td>True</td>\n",
       "            <td>updat***@john.com</td>\n",
       "        </tr>\n",
       "    </tbody>\n",
       "</table>"
      ],
      "text/plain": [
       "[('cust003', True, 'bob@example.com'),\n",
       " ('cust002', True, 'alice@example.com'),\n",
       " ('cust001', False, 'john@example.com'),\n",
       " ('cust001', True, 'updat***@john.com')]"
      ]
     },
     "execution_count": 34,
     "metadata": {},
     "output_type": "execute_result"
    }
   ],
   "source": [
    "%sql select customer_id,is_current,email from customer_dim limit 5"
   ]
  },
  {
   "cell_type": "code",
   "execution_count": null,
   "id": "da04f12e",
   "metadata": {},
   "outputs": [],
   "source": []
  }
 ],
 "metadata": {
  "kernelspec": {
   "display_name": "Python 3 (ipykernel)",
   "language": "python",
   "name": "python3"
  },
  "language_info": {
   "codemirror_mode": {
    "name": "ipython",
    "version": 3
   },
   "file_extension": ".py",
   "mimetype": "text/x-python",
   "name": "python",
   "nbconvert_exporter": "python",
   "pygments_lexer": "ipython3",
   "version": "3.11.9"
  }
 },
 "nbformat": 4,
 "nbformat_minor": 5
}
